{
 "cells": [
  {
   "cell_type": "markdown",
   "metadata": {},
   "source": [
    "# Declare a variable and initialize it"
   ]
  },
  {
   "cell_type": "code",
   "execution_count": 1,
   "metadata": {},
   "outputs": [
    {
     "name": "stdout",
     "output_type": "stream",
     "text": [
      "0\n"
     ]
    }
   ],
   "source": [
    "f = 0\n",
    "print (f)\n"
   ]
  },
  {
   "cell_type": "markdown",
   "metadata": {},
   "source": [
    "# Define a Function"
   ]
  },
  {
   "cell_type": "code",
   "execution_count": 3,
   "metadata": {},
   "outputs": [
    {
     "name": "stdout",
     "output_type": "stream",
     "text": [
      "I am a robot!\n"
     ]
    }
   ],
   "source": [
    "def func1(): \n",
    "      print('I am a robot!')\n",
    "func1()\n"
   ]
  },
  {
   "cell_type": "markdown",
   "metadata": {},
   "source": [
    "# Function that takes arguments"
   ]
  },
  {
   "cell_type": "code",
   "execution_count": 5,
   "metadata": {},
   "outputs": [
    {
     "name": "stdout",
     "output_type": "stream",
     "text": [
      "10  20\n"
     ]
    }
   ],
   "source": [
    "def func2(arg1,arg2):\n",
    "     print(arg1,'',arg2)\n",
    "func2(10,20)\n"
   ]
  },
  {
   "cell_type": "markdown",
   "metadata": {},
   "source": [
    "# Function that returns a value"
   ]
  },
  {
   "cell_type": "code",
   "execution_count": 7,
   "metadata": {},
   "outputs": [
    {
     "name": "stdout",
     "output_type": "stream",
     "text": [
      "27\n"
     ]
    }
   ],
   "source": [
    "def func4(x):\n",
    "    return x*x*x\n",
    "print(func4(3))\n",
    "\n"
   ]
  },
  {
   "cell_type": "code",
   "execution_count": 8,
   "metadata": {},
   "outputs": [
    {
     "name": "stdout",
     "output_type": "stream",
     "text": [
      "6\n"
     ]
    }
   ],
   "source": [
    "def func5b(a,x=1):\n",
    "    print(a+x)\n",
    "func5b(5) \n"
   ]
  },
  {
   "cell_type": "markdown",
   "metadata": {},
   "source": [
    "# Function with default value for an argument"
   ]
  },
  {
   "cell_type": "code",
   "execution_count": 9,
   "metadata": {},
   "outputs": [
    {
     "name": "stdout",
     "output_type": "stream",
     "text": [
      "6\n"
     ]
    }
   ],
   "source": [
    "def func5(a,x=1):\n",
    "    return a+x\n",
    "print(func5(5))\n"
   ]
  },
  {
   "cell_type": "markdown",
   "metadata": {},
   "source": [
    "# Function with variable number of arguments"
   ]
  },
  {
   "cell_type": "code",
   "execution_count": 10,
   "metadata": {},
   "outputs": [
    {
     "name": "stdout",
     "output_type": "stream",
     "text": [
      "10\n",
      "20\n",
      "30\n",
      "40\n",
      "50\n"
     ]
    }
   ],
   "source": [
    "def func6(*arg):\n",
    "    for x in arg:\n",
    "        print(x)\n",
    "func6(10,20,30,40,50)\n"
   ]
  },
  {
   "cell_type": "markdown",
   "metadata": {},
   "source": [
    "# Conditional Statement IF,ELIF,Else"
   ]
  },
  {
   "cell_type": "code",
   "execution_count": 11,
   "metadata": {},
   "outputs": [
    {
     "name": "stdout",
     "output_type": "stream",
     "text": [
      "X is equal to y\n"
     ]
    }
   ],
   "source": [
    "x=5\n",
    "y=5\n",
    "\n",
    "def func1():\n",
    "   if(x>y):\n",
    "        print(\"X is greater than y\")\n",
    "   elif(x==y):\n",
    "        print(\"X is equal to y\")\n",
    "   else:\n",
    "        print(\"X is less than y\")\n",
    "func1()\n"
   ]
  },
  {
   "cell_type": "markdown",
   "metadata": {},
   "source": [
    "# If then else statement"
   ]
  },
  {
   "cell_type": "code",
   "execution_count": 14,
   "metadata": {},
   "outputs": [
    {
     "name": "stdout",
     "output_type": "stream",
     "text": [
      "X is less than y\n"
     ]
    }
   ],
   "source": [
    "X=5\n",
    "y=6\n",
    "\n",
    "def func2():\n",
    "    if(x>y):\n",
    "        print(\"X is greater than y\")\n",
    "    else:\n",
    "        print(\"X is less than y\")\n",
    "func2()\n"
   ]
  },
  {
   "cell_type": "code",
   "execution_count": 20,
   "metadata": {},
   "outputs": [
    {
     "name": "stdout",
     "output_type": "stream",
     "text": [
      "I am a rabbit\n"
     ]
    }
   ],
   "source": [
    "def func3():\n",
    "    p=3\n",
    "    m=2\n",
    "    if(p>m): \n",
    "        print(\"I am a rabbit\")\n",
    "    else:\n",
    "        print(\"I am a dog\")\n",
    "func3()\n"
   ]
  },
  {
   "cell_type": "code",
   "execution_count": 21,
   "metadata": {},
   "outputs": [
    {
     "name": "stdout",
     "output_type": "stream",
     "text": [
      "I am a piggie\n"
     ]
    }
   ],
   "source": [
    "def func3():\n",
    "    p, m = 3, 2\n",
    "    if(p>m): \n",
    "        print(\"I am a piggie\")\n",
    "    else:\n",
    "        print(\"I am a dog\")\n",
    "func3()\n"
   ]
  },
  {
   "cell_type": "code",
   "execution_count": 22,
   "metadata": {},
   "outputs": [
    {
     "name": "stdout",
     "output_type": "stream",
     "text": [
      "X is greater than y\n"
     ]
    }
   ],
   "source": [
    "def main():\n",
    "    x, y = 30, 10\n",
    "    if(x>y):\n",
    "        print(\"X is greater than y\")\n",
    "    elif(x==y):\n",
    "        print(\"X is equal to y\")\n",
    "    else:\n",
    "        print(\"X is less than y\")\n",
    "      \n",
    "if __name__==\"__main__\":\n",
    "    main()\n"
   ]
  },
  {
   "cell_type": "code",
   "execution_count": 23,
   "metadata": {},
   "outputs": [
    {
     "name": "stdout",
     "output_type": "stream",
     "text": [
      "X is greater than y\n"
     ]
    }
   ],
   "source": [
    "def main():\n",
    "    x=30\n",
    "    y=10\n",
    "    if(x>y):\n",
    "        print(\"X is greater than y\")\n",
    "    elif(x==y):\n",
    "        print(\"X is equal to y\")\n",
    "    else:\n",
    "        print(\"X is less than y\")\n",
    "      \n",
    "if __name__==\"__main__\":\n",
    "    main()\n"
   ]
  },
  {
   "cell_type": "markdown",
   "metadata": {},
   "source": [
    "# Write the If else statement as a Variable using variables"
   ]
  },
  {
   "cell_type": "code",
   "execution_count": 24,
   "metadata": {},
   "outputs": [
    {
     "name": "stdout",
     "output_type": "stream",
     "text": [
      "x is greater than or equal to y\n"
     ]
    }
   ],
   "source": [
    "x=5\n",
    "y=5\n",
    "variable = \"x is less than y\" if (x < y) else \"x is greater than or equal to y\"\n",
    "print (variable)\n"
   ]
  },
  {
   "cell_type": "markdown",
   "metadata": {},
   "source": [
    "# Define a while loop - This performs an action for while a certain statement is true"
   ]
  },
  {
   "cell_type": "code",
   "execution_count": 25,
   "metadata": {},
   "outputs": [
    {
     "name": "stdout",
     "output_type": "stream",
     "text": [
      "2\n",
      "3\n",
      "4\n",
      "5\n"
     ]
    }
   ],
   "source": [
    "y=1\n",
    "while (y<5):\n",
    " print(y+1)\n",
    " y=y+1\n"
   ]
  },
  {
   "cell_type": "markdown",
   "metadata": {},
   "source": [
    "# Define a for loop - This performs an action for a specified period or range"
   ]
  },
  {
   "cell_type": "code",
   "execution_count": 26,
   "metadata": {},
   "outputs": [
    {
     "name": "stdout",
     "output_type": "stream",
     "text": [
      "6\n",
      "7\n",
      "8\n",
      "9\n",
      "10\n"
     ]
    }
   ],
   "source": [
    "for x in range(5,10):\n",
    "    print(x+1)\n"
   ]
  },
  {
   "cell_type": "markdown",
   "metadata": {},
   "source": [
    "# Use a for loop over a collection - This performs an action for items mentioned in a defined variable"
   ]
  },
  {
   "cell_type": "code",
   "execution_count": 27,
   "metadata": {},
   "outputs": [
    {
     "name": "stdout",
     "output_type": "stream",
     "text": [
      "Bunny\n",
      "Hamsters\n",
      "Dog\n",
      "Cat\n",
      "Hippo\n",
      "Guinea Pig\n",
      "Iquana\n"
     ]
    }
   ],
   "source": [
    "Pets = [\"Bunny\",\"Hamsters\",\"Dog\",\"Cat\",\"Hippo\",\"Guinea Pig\",\"Iquana\"]\n",
    "for pet in Pets:\n",
    "    print (pet)\n"
   ]
  },
  {
   "cell_type": "markdown",
   "metadata": {},
   "source": [
    "# Use the break statements-This peforms an action until you indicate where to stop "
   ]
  },
  {
   "cell_type": "code",
   "execution_count": 28,
   "metadata": {},
   "outputs": [
    {
     "name": "stdout",
     "output_type": "stream",
     "text": [
      "5\n",
      "6\n"
     ]
    }
   ],
   "source": [
    "for x in range(5,10):\n",
    "    if (x == 7): break\n",
    "    print(x)\n"
   ]
  },
  {
   "cell_type": "markdown",
   "metadata": {},
   "source": [
    "# Use the continue statements-this performs an action when you say it is time to continue"
   ]
  },
  {
   "cell_type": "code",
   "execution_count": 29,
   "metadata": {},
   "outputs": [
    {
     "name": "stdout",
     "output_type": "stream",
     "text": [
      "5\n",
      "6\n",
      "8\n",
      "9\n"
     ]
    }
   ],
   "source": [
    "for x in range(5,10):\n",
    "    if (x == 7): continue\n",
    "    print(x)\n"
   ]
  },
  {
   "cell_type": "markdown",
   "metadata": {},
   "source": [
    "# Using the enumerate() function to get index - This gets the numerical placement of items mentioned in a defined variable"
   ]
  },
  {
   "cell_type": "code",
   "execution_count": 30,
   "metadata": {},
   "outputs": [
    {
     "name": "stdout",
     "output_type": "stream",
     "text": [
      "1 Bunny\n",
      "2 Hamsters\n",
      "3 Dog\n",
      "4 Cat\n",
      "5 Hippo\n",
      "6 Guinea Pig\n",
      "7 Iquana\n"
     ]
    }
   ],
   "source": [
    "Pets = [\"Bunny\",\"Hamsters\",\"Dog\",\"Cat\",\"Hippo\",\"Guinea Pig\",\"Iquana\"]\n",
    "for listnumber, pet in enumerate(Pets):\n",
    "    print (listnumber+1, pet)\n"
   ]
  },
  {
   "cell_type": "markdown",
   "metadata": {},
   "source": [
    "# All loops can be performed by themselves as variables or as part of a function"
   ]
  },
  {
   "cell_type": "code",
   "execution_count": 31,
   "metadata": {},
   "outputs": [
    {
     "name": "stdout",
     "output_type": "stream",
     "text": [
      "1 Bunny2\n",
      "2 Hamsters\n",
      "3 Dog\n",
      "4 Cat\n",
      "5 Hippo\n",
      "6 Guinea Pig\n",
      "7 Iquana\n"
     ]
    }
   ],
   "source": [
    "def Funct1():\n",
    "    Pets = [\"Bunny2\",\"Hamsters\",\"Dog\",\"Cat\",\"Hippo\",\"Guinea Pig\",\"Iquana\"]\n",
    "    for listnumber, pet in enumerate(Pets):\n",
    "        print (listnumber+1, pet)\n",
    "Funct1()\n"
   ]
  },
  {
   "cell_type": "code",
   "execution_count": null,
   "metadata": {},
   "outputs": [],
   "source": []
  }
 ],
 "metadata": {
  "kernelspec": {
   "display_name": "Python 3",
   "language": "python",
   "name": "python3"
  },
  "language_info": {
   "codemirror_mode": {
    "name": "ipython",
    "version": 3
   },
   "file_extension": ".py",
   "mimetype": "text/x-python",
   "name": "python",
   "nbconvert_exporter": "python",
   "pygments_lexer": "ipython3",
   "version": "3.8.3"
  }
 },
 "nbformat": 4,
 "nbformat_minor": 4
}
